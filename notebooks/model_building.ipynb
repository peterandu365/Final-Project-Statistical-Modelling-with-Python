{
 "cells": [
  {
   "attachments": {},
   "cell_type": "markdown",
   "metadata": {},
   "source": [
    "## Import Libraries"
   ]
  },
  {
   "cell_type": "code",
   "execution_count": 12,
   "metadata": {},
   "outputs": [],
   "source": [
    "from IPython.core.interactiveshell import InteractiveShell\n",
    "InteractiveShell.ast_node_interactivity =  \"all\""
   ]
  },
  {
   "cell_type": "code",
   "execution_count": 13,
   "metadata": {},
   "outputs": [],
   "source": [
    "# import libraries\n",
    "\n",
    "# import data manipulation libraries:\n",
    "import pandas as pd\n",
    "import numpy as np\n",
    "\n",
    "# import visualization libraries:\n",
    "import matplotlib.pyplot as plt\n",
    "import seaborn as sns\n",
    "import plotly.express as px\n",
    "\n",
    "# import machine learning libraries:\n",
    "from scipy import stats\n",
    "\n",
    "# import data preprocessing libraries:\n",
    "import sqlite3\n",
    "from sqlite3 import Error\n",
    "import statsmodels.api as sm\n",
    "\n",
    "import scipy"
   ]
  },
  {
   "attachments": {},
   "cell_type": "markdown",
   "metadata": {},
   "source": [
    "## Load Data from Database"
   ]
  },
  {
   "cell_type": "code",
   "execution_count": 14,
   "metadata": {},
   "outputs": [],
   "source": [
    "# load the all the tables in the database to corresponding dataframes:\n",
    "\n",
    "# set the path to the database:\n",
    "data_path = '../data/'\n",
    "database_name = \"city_bikes_stations_POIs_foursquare_yelp.sqlite\"\n"
   ]
  },
  {
   "cell_type": "code",
   "execution_count": 15,
   "metadata": {},
   "outputs": [],
   "source": [
    "\n",
    "# defining the conect function:\n",
    "def create_connection(path):\n",
    "    conn = None\n",
    "    try:\n",
    "        conn = sqlite3.connect(path)\n",
    "        print(\"Connection to SQLite DB successful\")\n",
    "    except Error as e:\n",
    "        print(f\"The error '{e}' occurred\")\n",
    "\n",
    "    return conn"
   ]
  },
  {
   "cell_type": "code",
   "execution_count": 16,
   "metadata": {},
   "outputs": [
    {
     "name": "stdout",
     "output_type": "stream",
     "text": [
      "Connection to SQLite DB successful\n"
     ]
    }
   ],
   "source": [
    "# create a connection to the database:\n",
    "conn = create_connection(data_path+database_name)"
   ]
  },
  {
   "cell_type": "code",
   "execution_count": 17,
   "metadata": {},
   "outputs": [
    {
     "data": {
      "text/html": [
       "<div>\n",
       "<style scoped>\n",
       "    .dataframe tbody tr th:only-of-type {\n",
       "        vertical-align: middle;\n",
       "    }\n",
       "\n",
       "    .dataframe tbody tr th {\n",
       "        vertical-align: top;\n",
       "    }\n",
       "\n",
       "    .dataframe thead th {\n",
       "        text-align: right;\n",
       "    }\n",
       "</style>\n",
       "<table border=\"1\" class=\"dataframe\">\n",
       "  <thead>\n",
       "    <tr style=\"text-align: right;\">\n",
       "      <th></th>\n",
       "      <th>name</th>\n",
       "    </tr>\n",
       "  </thead>\n",
       "  <tbody>\n",
       "    <tr>\n",
       "      <th>0</th>\n",
       "      <td>target_city_stations_DF</td>\n",
       "    </tr>\n",
       "    <tr>\n",
       "      <th>1</th>\n",
       "      <td>DF_POI_FS</td>\n",
       "    </tr>\n",
       "    <tr>\n",
       "      <th>2</th>\n",
       "      <td>DF_stations_yelp_POIs_Charac_pivot</td>\n",
       "    </tr>\n",
       "    <tr>\n",
       "      <th>3</th>\n",
       "      <td>DF_yelp_stations_POIs_pivot</td>\n",
       "    </tr>\n",
       "  </tbody>\n",
       "</table>\n",
       "</div>"
      ],
      "text/plain": [
       "                                 name\n",
       "0             target_city_stations_DF\n",
       "1                           DF_POI_FS\n",
       "2  DF_stations_yelp_POIs_Charac_pivot\n",
       "3         DF_yelp_stations_POIs_pivot"
      ]
     },
     "execution_count": 17,
     "metadata": {},
     "output_type": "execute_result"
    }
   ],
   "source": [
    "# list all the tables in the database:\n",
    "df_tables = pd.read_sql_query(\"SELECT name FROM sqlite_master WHERE type='table';\", conn)\n",
    "df_tables"
   ]
  },
  {
   "cell_type": "code",
   "execution_count": null,
   "metadata": {},
   "outputs": [],
   "source": []
  },
  {
   "cell_type": "code",
   "execution_count": 18,
   "metadata": {},
   "outputs": [],
   "source": [
    "# draft above:"
   ]
  },
  {
   "cell_type": "code",
   "execution_count": 19,
   "metadata": {},
   "outputs": [],
   "source": [
    "# read from the database, and create a dataframe for each table, the same variable name as the table name:\n",
    "table_list = df_tables['name'].to_list()\n",
    "for name in table_list:\n",
    "    globals()[name] = pd.read_sql_query(\"SELECT * from \"+name, conn)\n",
    "    "
   ]
  },
  {
   "attachments": {},
   "cell_type": "markdown",
   "metadata": {},
   "source": [
    "## Build a regression model."
   ]
  },
  {
   "attachments": {},
   "cell_type": "markdown",
   "metadata": {},
   "source": [
    "### Define a Backward Elimination Linear Regression Function"
   ]
  },
  {
   "cell_type": "code",
   "execution_count": 20,
   "metadata": {},
   "outputs": [],
   "source": [
    "# ## Feature Selection: Backward elemination (P-value approach)\n",
    "# define the backward elemination function (P-value approach) for linear regression\n",
    "# input: dataframes DF the input, col_list the list of columns to be used in the regression, dep_var the dependent variable\n",
    "\n",
    "def backward_elimination_linear_regression(DF, col_list, dep_var, threshold=0.0001):\n",
    "    \"\"\" Takes in the dataframe, the list of columns and the dependent variable, runs the regression repeatedly eleminating feature with the highest\n",
    "    P-value above alpha one at a time and returns the regression summary with all p-values below alpha\"\"\"\n",
    "    while len(col_list)>0 :\n",
    "        X = DF[col_list]\n",
    "        # add a constant to the dataframe\n",
    "        # model=sm.OLS(dep_var,sm.add_constant(DF[col_list]))\n",
    "        model=sm.OLS(dep_var, X)\n",
    "        result=model.fit()\n",
    "        largest_pvalue=round(result.pvalues,3).nlargest(1)\n",
    "        if largest_pvalue[0]<(threshold):\n",
    "            return result\n",
    "            break\n",
    "        else:\n",
    "            col_list=col_list.drop(largest_pvalue.index)\n"
   ]
  },
  {
   "attachments": {},
   "cell_type": "markdown",
   "metadata": {},
   "source": [
    "## Building a Model\n",
    "To investigate the relationship between the number of bikes in a particular location and the characteristics of the POIs in that location.  \n",
    "* dependent variable: number of free bikes\n",
    "* independent variables:  'POI_distance_mean', 'POI_is_closed_mean', 'POI_price_mean', 'POI_rating_mean', 'POI_review_count_mean'"
   ]
  },
  {
   "cell_type": "code",
   "execution_count": 21,
   "metadata": {},
   "outputs": [
    {
     "data": {
      "text/plain": [
       "Index(['station_latitude', 'station_longitude', 'station_empty_slots',\n",
       "       'station_free_bikes', 'station_uid', 'station_normal_bikes',\n",
       "       'station_has_ebikes', 'station_ebikes', 'station_slots',\n",
       "       'station_renting', 'station_returning', 'station_last_updated',\n",
       "       'POI_distance_mean', 'POI_is_closed_mean', 'POI_price_mean',\n",
       "       'POI_rating_mean', 'POI_review_count_mean'],\n",
       "      dtype='object')"
      ]
     },
     "execution_count": 21,
     "metadata": {},
     "output_type": "execute_result"
    },
    {
     "data": {
      "text/plain": [
       "Index(['station_id', 'station_name', 'station_timestamp'], dtype='object')"
      ]
     },
     "execution_count": 21,
     "metadata": {},
     "output_type": "execute_result"
    }
   ],
   "source": [
    "# list the numerical columns of DF_yelp_stations_POIs_pivot\n",
    "numerical_columns = DF_stations_yelp_POIs_Charac_pivot.select_dtypes(include=['float64', 'int64']).columns\n",
    "\n",
    "numerical_columns_index = pd.Index(numerical_columns)\n",
    "\n",
    "numerical_columns_index\n",
    "\n",
    "# list the columns type: boolean\n",
    "categorical_columns = DF_stations_yelp_POIs_Charac_pivot.select_dtypes(include=['bool', 'object']).columns\n",
    "categorical_columns"
   ]
  },
  {
   "cell_type": "code",
   "execution_count": 22,
   "metadata": {},
   "outputs": [],
   "source": [
    "# subste the numerical columns of\n",
    "DF_stations_yelp_POIs_Charac_pivot_numerical = DF_stations_yelp_POIs_Charac_pivot[['station_empty_slots',\n",
    "       'station_free_bikes', 'station_normal_bikes',\n",
    "       'station_ebikes', 'station_slots',\n",
    "       'POI_distance_mean', 'POI_is_closed_mean', 'POI_price_mean',\n",
    "       'POI_rating_mean', 'POI_review_count_mean']]\n",
    "\n",
    "DF_yelp_stations_POIs_pivot_categorical = DF_yelp_stations_POIs_pivot[['station_has_ebikes', 'station_renting', 'station_returning']]"
   ]
  },
  {
   "cell_type": "markdown",
   "metadata": {},
   "source": []
  },
  {
   "cell_type": "code",
   "execution_count": 23,
   "metadata": {},
   "outputs": [],
   "source": [
    "# # show a pairplot\n",
    "# sns.pairplot(DF_stations_yelp_POIs_Charac_pivot_numerical)\n",
    "# plt.show();"
   ]
  },
  {
   "cell_type": "code",
   "execution_count": 24,
   "metadata": {},
   "outputs": [
    {
     "data": {
      "text/plain": [
       "station_empty_slots      0\n",
       "station_free_bikes       0\n",
       "station_normal_bikes     0\n",
       "station_ebikes           0\n",
       "station_slots            0\n",
       "POI_distance_mean        0\n",
       "POI_is_closed_mean       0\n",
       "POI_price_mean           0\n",
       "POI_rating_mean          0\n",
       "POI_review_count_mean    0\n",
       "dtype: int64"
      ]
     },
     "execution_count": 24,
     "metadata": {},
     "output_type": "execute_result"
    }
   ],
   "source": [
    "# find the Nan or Null  values in the numerical columns of DF_yelp_stations_POIs_pivot, show the percentage of missing values in each column, sorted in descending order\n",
    "\n",
    "DF_stations_yelp_POIs_Charac_pivot_numerical.isnull().sum().sort_values(ascending=False)"
   ]
  },
  {
   "attachments": {},
   "cell_type": "markdown",
   "metadata": {},
   "source": [
    "## Regression Model 1 - Linear Regression\n",
    "\n",
    "Starting with all independent variables, we will use backward elimination to remove insignificant variables."
   ]
  },
  {
   "cell_type": "code",
   "execution_count": 25,
   "metadata": {},
   "outputs": [],
   "source": [
    "y = DF_stations_yelp_POIs_Charac_pivot_numerical['station_free_bikes']\n",
    "X = DF_stations_yelp_POIs_Charac_pivot_numerical.drop(['station_free_bikes'], axis=1)\n",
    "X = sm.add_constant(X)\n",
    "# X\n",
    "x_cols = pd.Index([ 'const', 'POI_distance_mean', \n",
    "       'POI_price_mean', 'POI_rating_mean', 'POI_review_count_mean'])\n"
   ]
  },
  {
   "cell_type": "code",
   "execution_count": 26,
   "metadata": {},
   "outputs": [
    {
     "data": {
      "text/plain": [
       "Index(['const', 'station_empty_slots', 'station_normal_bikes',\n",
       "       'station_ebikes', 'station_slots', 'POI_distance_mean',\n",
       "       'POI_is_closed_mean', 'POI_price_mean', 'POI_rating_mean',\n",
       "       'POI_review_count_mean'],\n",
       "      dtype='object')"
      ]
     },
     "execution_count": 26,
     "metadata": {},
     "output_type": "execute_result"
    },
    {
     "data": {
      "text/plain": [
       "Index(['const', 'POI_distance_mean', 'POI_price_mean', 'POI_rating_mean',\n",
       "       'POI_review_count_mean'],\n",
       "      dtype='object')"
      ]
     },
     "execution_count": 26,
     "metadata": {},
     "output_type": "execute_result"
    }
   ],
   "source": [
    "X.columns\n",
    "x_cols"
   ]
  },
  {
   "cell_type": "code",
   "execution_count": 27,
   "metadata": {},
   "outputs": [
    {
     "data": {
      "text/html": [
       "<table class=\"simpletable\">\n",
       "<caption>OLS Regression Results</caption>\n",
       "<tr>\n",
       "  <th>Dep. Variable:</th>    <td>station_free_bikes</td> <th>  R-squared (uncentered):</th>      <td>   0.732</td>\n",
       "</tr>\n",
       "<tr>\n",
       "  <th>Model:</th>                    <td>OLS</td>        <th>  Adj. R-squared (uncentered):</th> <td>   0.731</td>\n",
       "</tr>\n",
       "<tr>\n",
       "  <th>Method:</th>              <td>Least Squares</td>   <th>  F-statistic:       </th>          <td>   657.1</td>\n",
       "</tr>\n",
       "<tr>\n",
       "  <th>Date:</th>              <td>Mon, 27 Feb 2023</td>  <th>  Prob (F-statistic):</th>          <td>1.16e-70</td>\n",
       "</tr>\n",
       "<tr>\n",
       "  <th>Time:</th>                  <td>14:29:09</td>      <th>  Log-Likelihood:    </th>          <td> -743.97</td>\n",
       "</tr>\n",
       "<tr>\n",
       "  <th>No. Observations:</th>       <td>   241</td>       <th>  AIC:               </th>          <td>   1490.</td>\n",
       "</tr>\n",
       "<tr>\n",
       "  <th>Df Residuals:</th>           <td>   240</td>       <th>  BIC:               </th>          <td>   1493.</td>\n",
       "</tr>\n",
       "<tr>\n",
       "  <th>Df Model:</th>               <td>     1</td>       <th>                     </th>              <td> </td>   \n",
       "</tr>\n",
       "<tr>\n",
       "  <th>Covariance Type:</th>       <td>nonrobust</td>     <th>                     </th>              <td> </td>   \n",
       "</tr>\n",
       "</table>\n",
       "<table class=\"simpletable\">\n",
       "<tr>\n",
       "         <td></td>           <th>coef</th>     <th>std err</th>      <th>t</th>      <th>P>|t|</th>  <th>[0.025</th>    <th>0.975]</th>  \n",
       "</tr>\n",
       "<tr>\n",
       "  <th>POI_price_mean</th> <td>    4.7034</td> <td>    0.183</td> <td>   25.634</td> <td> 0.000</td> <td>    4.342</td> <td>    5.065</td>\n",
       "</tr>\n",
       "</table>\n",
       "<table class=\"simpletable\">\n",
       "<tr>\n",
       "  <th>Omnibus:</th>       <td>35.280</td> <th>  Durbin-Watson:     </th> <td>   1.721</td>\n",
       "</tr>\n",
       "<tr>\n",
       "  <th>Prob(Omnibus):</th> <td> 0.000</td> <th>  Jarque-Bera (JB):  </th> <td>  46.370</td>\n",
       "</tr>\n",
       "<tr>\n",
       "  <th>Skew:</th>          <td> 0.978</td> <th>  Prob(JB):          </th> <td>8.53e-11</td>\n",
       "</tr>\n",
       "<tr>\n",
       "  <th>Kurtosis:</th>      <td> 3.888</td> <th>  Cond. No.          </th> <td>    1.00</td>\n",
       "</tr>\n",
       "</table><br/><br/>Notes:<br/>[1] R² is computed without centering (uncentered) since the model does not contain a constant.<br/>[2] Standard Errors assume that the covariance matrix of the errors is correctly specified."
      ],
      "text/plain": [
       "<class 'statsmodels.iolib.summary.Summary'>\n",
       "\"\"\"\n",
       "                                 OLS Regression Results                                \n",
       "=======================================================================================\n",
       "Dep. Variable:     station_free_bikes   R-squared (uncentered):                   0.732\n",
       "Model:                            OLS   Adj. R-squared (uncentered):              0.731\n",
       "Method:                 Least Squares   F-statistic:                              657.1\n",
       "Date:                Mon, 27 Feb 2023   Prob (F-statistic):                    1.16e-70\n",
       "Time:                        14:29:09   Log-Likelihood:                         -743.97\n",
       "No. Observations:                 241   AIC:                                      1490.\n",
       "Df Residuals:                     240   BIC:                                      1493.\n",
       "Df Model:                           1                                                  \n",
       "Covariance Type:            nonrobust                                                  \n",
       "==================================================================================\n",
       "                     coef    std err          t      P>|t|      [0.025      0.975]\n",
       "----------------------------------------------------------------------------------\n",
       "POI_price_mean     4.7034      0.183     25.634      0.000       4.342       5.065\n",
       "==============================================================================\n",
       "Omnibus:                       35.280   Durbin-Watson:                   1.721\n",
       "Prob(Omnibus):                  0.000   Jarque-Bera (JB):               46.370\n",
       "Skew:                           0.978   Prob(JB):                     8.53e-11\n",
       "Kurtosis:                       3.888   Cond. No.                         1.00\n",
       "==============================================================================\n",
       "\n",
       "Notes:\n",
       "[1] R² is computed without centering (uncentered) since the model does not contain a constant.\n",
       "[2] Standard Errors assume that the covariance matrix of the errors is correctly specified.\n",
       "\"\"\""
      ]
     },
     "execution_count": 27,
     "metadata": {},
     "output_type": "execute_result"
    }
   ],
   "source": [
    "result=backward_elimination_linear_regression(X, x_cols, y)\n",
    "result.summary()"
   ]
  },
  {
   "attachments": {},
   "cell_type": "markdown",
   "metadata": {},
   "source": [
    "examine the results of the regression model:"
   ]
  },
  {
   "cell_type": "code",
   "execution_count": 28,
   "metadata": {},
   "outputs": [
    {
     "data": {
      "text/plain": [
       "0      12.847419\n",
       "1      -1.119462\n",
       "2       4.423190\n",
       "3      -6.510936\n",
       "4       0.510915\n",
       "         ...    \n",
       "236     2.533858\n",
       "237     6.328195\n",
       "238    -7.673988\n",
       "239    -6.564422\n",
       "240    -2.062672\n",
       "Length: 241, dtype: float64"
      ]
     },
     "execution_count": 28,
     "metadata": {},
     "output_type": "execute_result"
    }
   ],
   "source": [
    "residuals = result.resid\n",
    "residuals"
   ]
  },
  {
   "attachments": {},
   "cell_type": "markdown",
   "metadata": {},
   "source": [
    "Examining the residual's normality:\n",
    "* From the histogram, we can see that the residual highly screwed and it is not normally distributed."
   ]
  },
  {
   "cell_type": "code",
   "execution_count": 29,
   "metadata": {},
   "outputs": [
    {
     "data": {
      "text/plain": [
       "<AxesSubplot:ylabel='Count'>"
      ]
     },
     "execution_count": 29,
     "metadata": {},
     "output_type": "execute_result"
    },
    {
     "data": {
      "image/png": "[encoded data removed]",
      "text/plain": [
       "<Figure size 432x288 with 1 Axes>"
      ]
     },
     "metadata": {
      "needs_background": "light"
     },
     "output_type": "display_data"
    }
   ],
   "source": [
    "sns.histplot(residuals)"
   ]
  },
  {
   "cell_type": "code",
   "execution_count": 30,
   "metadata": {},
   "outputs": [
    {
     "data": {
      "image/png": "[encoded data removed]",
      "text/plain": [
       "<Figure size 432x288 with 1 Axes>"
      ]
     },
     "metadata": {
      "needs_background": "light"
     },
     "output_type": "display_data"
    }
   ],
   "source": [
    "sm.qqplot(residuals)\n",
    "plt.show();"
   ]
  },
  {
   "attachments": {},
   "cell_type": "markdown",
   "metadata": {},
   "source": [
    "The qqplot shows that the residuals are not normally distributed, since most of the dots are not on diagonal line."
   ]
  },
  {
   "cell_type": "code",
   "execution_count": 31,
   "metadata": {},
   "outputs": [
    {
     "data": {
      "text/plain": [
       "ShapiroResult(statistic=0.937570333480835, pvalue=1.3401558085490706e-08)"
      ]
     },
     "execution_count": 31,
     "metadata": {},
     "output_type": "execute_result"
    }
   ],
   "source": [
    "scipy.stats.shapiro(residuals) "
   ]
  },
  {
   "attachments": {},
   "cell_type": "markdown",
   "metadata": {},
   "source": [
    "The shapiro test shows that the data is not normally distributed. \n"
   ]
  },
  {
   "cell_type": "markdown",
   "metadata": {},
   "source": [
    "#### Homoscedasticity\n",
    "For the homoscedasticity assumption to be satisfied, the variance of the residuals should not change as the indep. variable changes. We can view this visually by plotting the residuals vs the indep. variable (income)."
   ]
  },
  {
   "cell_type": "code",
   "execution_count": 32,
   "metadata": {},
   "outputs": [
    {
     "data": {
      "text/plain": [
       "<matplotlib.lines.Line2D at 0x7fdf31782da0>"
      ]
     },
     "execution_count": 32,
     "metadata": {},
     "output_type": "execute_result"
    },
    {
     "data": {
      "image/png": "[encoded data removed]",
      "text/plain": [
       "<Figure size 432x288 with 1 Axes>"
      ]
     },
     "metadata": {
      "needs_background": "light"
     },
     "output_type": "display_data"
    }
   ],
   "source": [
    "\n",
    "ax = sns.scatterplot(x=DF_stations_yelp_POIs_Charac_pivot_numerical['POI_price_mean'], y=residuals)\n",
    "ax.axhline(0) #horizontal line at 0"
   ]
  },
  {
   "attachments": {},
   "cell_type": "markdown",
   "metadata": {},
   "source": [
    "By using the scatter plot, we can see that the variance of the residuals is not constant. The variance of the residuals is larger when the income is smaller. This violates the homoscedasticity assumption. We can also check this by using the Breusch-Pagan test.\n"
   ]
  },
  {
   "attachments": {},
   "cell_type": "markdown",
   "metadata": {},
   "source": [
    "#### Breusch-Pagan test (among others) to formally test homoscedasticity.\n",
    "- H<sub>0</sub>: Homoscedasticity is present (the residuals are distributed with equal variance)\n",
    "- H<sub>a</sub>: Homoscedasticity is not present(the residuals are not distributed with equal variance)"
   ]
  },
  {
   "cell_type": "code",
   "execution_count": 33,
   "metadata": {},
   "outputs": [
    {
     "name": "stdout",
     "output_type": "stream",
     "text": [
      "nan 1.4535072847276046e-17\n"
     ]
    }
   ],
   "source": [
    "stat, p, f_stat, f_p = sm.stats.diagnostic.het_breuschpagan(residuals,result.model.exog)\n",
    "print(p,f_p) #actually performs two tests, so it returns two p-values"
   ]
  },
  {
   "attachments": {},
   "cell_type": "markdown",
   "metadata": {},
   "source": [
    "By using the Breusch-Pagan test, we can see that the p-value is 0.000, which is less than 0.05. Therefore, we reject the null hypothesis and conclude that the residuals are not homoscedastic.\n"
   ]
  },
  {
   "attachments": {},
   "cell_type": "markdown",
   "metadata": {},
   "source": [
    "Conclusion: Both the normality and homoscedasticity assumptions are violated. We can use the log transformation to make it more normal."
   ]
  },
  {
   "attachments": {},
   "cell_type": "markdown",
   "metadata": {},
   "source": [
    "## Regression Model 2 - Run linear regression using the log of the dep. variable\n",
    "\n",
    "The purpose of transforming the dependent variable is to make the residuals more normally distributed."
   ]
  },
  {
   "attachments": {},
   "cell_type": "markdown",
   "metadata": {},
   "source": [
    "To ensure the log works, we need to ensure there is no zero value in the dep. variable. \n"
   ]
  },
  {
   "cell_type": "code",
   "execution_count": 34,
   "metadata": {},
   "outputs": [
    {
     "data": {
      "text/plain": [
       "0"
      ]
     },
     "execution_count": 34,
     "metadata": {},
     "output_type": "execute_result"
    },
    {
     "data": {
      "text/plain": [
       "27"
      ]
     },
     "execution_count": 34,
     "metadata": {},
     "output_type": "execute_result"
    }
   ],
   "source": [
    "y = DF_stations_yelp_POIs_Charac_pivot_numerical['station_free_bikes']\n",
    "y.min()\n",
    "y.max()"
   ]
  },
  {
   "attachments": {},
   "cell_type": "markdown",
   "metadata": {},
   "source": [
    "Drop the rows with zero value in the dep. variable:"
   ]
  },
  {
   "cell_type": "code",
   "execution_count": 35,
   "metadata": {},
   "outputs": [
    {
     "data": {
      "text/plain": [
       "1"
      ]
     },
     "execution_count": 35,
     "metadata": {},
     "output_type": "execute_result"
    },
    {
     "data": {
      "text/plain": [
       "27"
      ]
     },
     "execution_count": 35,
     "metadata": {},
     "output_type": "execute_result"
    }
   ],
   "source": [
    "DF_stations_yelp_POIs_Charac_pivot_numerical_drop0 = DF_stations_yelp_POIs_Charac_pivot_numerical.copy()\n",
    "# Delete the rows station_free_bikes = 0\n",
    "DF_stations_yelp_POIs_Charac_pivot_numerical_drop0 = DF_stations_yelp_POIs_Charac_pivot_numerical_drop0[DF_stations_yelp_POIs_Charac_pivot_numerical_drop0['station_free_bikes']!=0]\n",
    "DF_stations_yelp_POIs_Charac_pivot_numerical_drop0['station_free_bikes'].min()\n",
    "DF_stations_yelp_POIs_Charac_pivot_numerical_drop0['station_free_bikes'].max()"
   ]
  },
  {
   "attachments": {},
   "cell_type": "markdown",
   "metadata": {},
   "source": [
    "Building the regression model using the log of the dep. variable:"
   ]
  },
  {
   "cell_type": "code",
   "execution_count": 36,
   "metadata": {},
   "outputs": [],
   "source": [
    "y = np.log(DF_stations_yelp_POIs_Charac_pivot_numerical_drop0['station_free_bikes'])\n",
    "X = DF_stations_yelp_POIs_Charac_pivot_numerical_drop0.drop(['station_free_bikes'], axis=1)\n",
    "X = sm.add_constant(X) #adds a column of 1's so the model will contain an intercept\n",
    "x_cols = pd.Index(['POI_is_closed_mean',\n",
    "       'POI_price_mean', 'POI_rating_mean', 'POI_review_count_mean'])\n"
   ]
  },
  {
   "cell_type": "code",
   "execution_count": 37,
   "metadata": {},
   "outputs": [
    {
     "name": "stdout",
     "output_type": "stream",
     "text": [
      "                                 OLS Regression Results                                \n",
      "=======================================================================================\n",
      "Dep. Variable:     station_free_bikes   R-squared (uncentered):                   0.905\n",
      "Model:                            OLS   Adj. R-squared (uncentered):              0.904\n",
      "Method:                 Least Squares   F-statistic:                              2240.\n",
      "Date:                Mon, 27 Feb 2023   Prob (F-statistic):                   1.93e-122\n",
      "Time:                        14:29:11   Log-Likelihood:                         -233.60\n",
      "No. Observations:                 237   AIC:                                      469.2\n",
      "Df Residuals:                     236   BIC:                                      472.7\n",
      "Df Model:                           1                                                  \n",
      "Covariance Type:            nonrobust                                                  \n",
      "======================================================================================\n",
      "                         coef    std err          t      P>|t|      [0.025      0.975]\n",
      "--------------------------------------------------------------------------------------\n",
      "POI_is_closed_mean          0          0        nan        nan           0           0\n",
      "POI_rating_mean        0.5438      0.011     47.325      0.000       0.521       0.566\n",
      "==============================================================================\n",
      "Omnibus:                        8.982   Durbin-Watson:                   1.818\n",
      "Prob(Omnibus):                  0.011   Jarque-Bera (JB):                8.907\n",
      "Skew:                          -0.455   Prob(JB):                       0.0116\n",
      "Kurtosis:                       3.272   Cond. No.                          inf\n",
      "==============================================================================\n",
      "\n",
      "Notes:\n",
      "[1] R² is computed without centering (uncentered) since the model does not contain a constant.\n",
      "[2] Standard Errors assume that the covariance matrix of the errors is correctly specified.\n",
      "[3] The smallest eigenvalue is      0. This might indicate that there are\n",
      "strong multicollinearity problems or that the design matrix is singular.\n"
     ]
    },
    {
     "name": "stderr",
     "output_type": "stream",
     "text": [
      "/Users/ds/opt/anaconda3/envs/THE_ONE/lib/python3.10/site-packages/statsmodels/regression/linear_model.py:1934: RuntimeWarning: divide by zero encountered in double_scalars\n",
      "  return np.sqrt(eigvals[0]/eigvals[-1])\n"
     ]
    }
   ],
   "source": [
    "result=backward_elimination_linear_regression(X, x_cols, y)\n",
    "print(result.summary())\n",
    "residuals = result.resid"
   ]
  },
  {
   "attachments": {},
   "cell_type": "markdown",
   "metadata": {},
   "source": [
    "### Normality Test"
   ]
  },
  {
   "cell_type": "code",
   "execution_count": 38,
   "metadata": {},
   "outputs": [
    {
     "data": {
      "text/plain": [
       "ShapiroResult(statistic=0.981182336807251, pvalue=0.0030757205095142126)"
      ]
     },
     "execution_count": 38,
     "metadata": {},
     "output_type": "execute_result"
    }
   ],
   "source": [
    "\n",
    "scipy.stats.shapiro(residuals)"
   ]
  },
  {
   "attachments": {},
   "cell_type": "markdown",
   "metadata": {},
   "source": [
    "The Shapiro test shows that the data is not normally distributed."
   ]
  },
  {
   "attachments": {},
   "cell_type": "markdown",
   "metadata": {},
   "source": [
    "### Homoscedasticity Test"
   ]
  },
  {
   "cell_type": "code",
   "execution_count": 39,
   "metadata": {},
   "outputs": [
    {
     "data": {
      "text/plain": [
       "<matplotlib.lines.Line2D at 0x7fdf32801570>"
      ]
     },
     "execution_count": 39,
     "metadata": {},
     "output_type": "execute_result"
    },
    {
     "data": {
      "image/png": "[encoded data removed]",
      "text/plain": [
       "<Figure size 432x288 with 1 Axes>"
      ]
     },
     "metadata": {
      "needs_background": "light"
     },
     "output_type": "display_data"
    }
   ],
   "source": [
    "ax = sns.scatterplot(x=DF_stations_yelp_POIs_Charac_pivot_numerical_drop0['POI_rating_mean'], y=residuals)\n",
    "ax.axhline(0) #horizontal line at 0"
   ]
  },
  {
   "attachments": {},
   "cell_type": "markdown",
   "metadata": {},
   "source": [
    "The scatter plot shows that the variance of the residuals is not constant. This violates the homoscedasticity assumption. \n"
   ]
  },
  {
   "attachments": {},
   "cell_type": "markdown",
   "metadata": {},
   "source": [
    "## Regression Model 3 - Run linear regression using the square root of the dep. variable"
   ]
  },
  {
   "attachments": {},
   "cell_type": "markdown",
   "metadata": {},
   "source": [
    "Use the square root of the dep. variable:"
   ]
  },
  {
   "cell_type": "code",
   "execution_count": 40,
   "metadata": {},
   "outputs": [],
   "source": [
    "y = np.sqrt(DF_stations_yelp_POIs_Charac_pivot_numerical_drop0['station_free_bikes'])\n",
    "X = DF_stations_yelp_POIs_Charac_pivot_numerical_drop0.drop(['station_free_bikes'], axis=1)\n",
    "X = sm.add_constant(X) #adds a column of 1's so the model will contain an intercept\n",
    "x_cols = pd.Index(['POI_is_closed_mean',\n",
    "       'POI_price_mean', 'POI_rating_mean', 'POI_review_count_mean'])\n"
   ]
  },
  {
   "cell_type": "code",
   "execution_count": 41,
   "metadata": {},
   "outputs": [
    {
     "name": "stdout",
     "output_type": "stream",
     "text": [
      "                                 OLS Regression Results                                \n",
      "=======================================================================================\n",
      "Dep. Variable:     station_free_bikes   R-squared (uncentered):                   0.915\n",
      "Model:                            OLS   Adj. R-squared (uncentered):              0.915\n",
      "Method:                 Least Squares   F-statistic:                              2556.\n",
      "Date:                Mon, 27 Feb 2023   Prob (F-statistic):                   1.33e-128\n",
      "Time:                        14:29:12   Log-Likelihood:                         -302.38\n",
      "No. Observations:                 237   AIC:                                      606.8\n",
      "Df Residuals:                     236   BIC:                                      610.2\n",
      "Df Model:                           1                                                  \n",
      "Covariance Type:            nonrobust                                                  \n",
      "======================================================================================\n",
      "                         coef    std err          t      P>|t|      [0.025      0.975]\n",
      "--------------------------------------------------------------------------------------\n",
      "POI_is_closed_mean          0          0        nan        nan           0           0\n",
      "POI_price_mean         1.5285      0.030     50.555      0.000       1.469       1.588\n",
      "==============================================================================\n",
      "Omnibus:                        1.868   Durbin-Watson:                   1.835\n",
      "Prob(Omnibus):                  0.393   Jarque-Bera (JB):                1.735\n",
      "Skew:                           0.209   Prob(JB):                        0.420\n",
      "Kurtosis:                       3.010   Cond. No.                          inf\n",
      "==============================================================================\n",
      "\n",
      "Notes:\n",
      "[1] R² is computed without centering (uncentered) since the model does not contain a constant.\n",
      "[2] Standard Errors assume that the covariance matrix of the errors is correctly specified.\n",
      "[3] The smallest eigenvalue is      0. This might indicate that there are\n",
      "strong multicollinearity problems or that the design matrix is singular.\n"
     ]
    },
    {
     "name": "stderr",
     "output_type": "stream",
     "text": [
      "/Users/ds/opt/anaconda3/envs/THE_ONE/lib/python3.10/site-packages/statsmodels/regression/linear_model.py:1934: RuntimeWarning: divide by zero encountered in double_scalars\n",
      "  return np.sqrt(eigvals[0]/eigvals[-1])\n"
     ]
    }
   ],
   "source": [
    "result=backward_elimination_linear_regression(X, x_cols, y)\n",
    "print(result.summary())\n",
    "residuals = result.resid"
   ]
  },
  {
   "attachments": {},
   "cell_type": "markdown",
   "metadata": {},
   "source": [
    "### Normality Test"
   ]
  },
  {
   "cell_type": "code",
   "execution_count": 42,
   "metadata": {},
   "outputs": [
    {
     "data": {
      "text/plain": [
       "ShapiroResult(statistic=0.9926595091819763, pvalue=0.28940531611442566)"
      ]
     },
     "execution_count": 42,
     "metadata": {},
     "output_type": "execute_result"
    }
   ],
   "source": [
    "\n",
    "scipy.stats.shapiro(residuals)\n"
   ]
  },
  {
   "attachments": {},
   "cell_type": "markdown",
   "metadata": {},
   "source": [
    "When using the square-root Shapiro test shows that the data is normally distributed.\n"
   ]
  },
  {
   "attachments": {},
   "cell_type": "markdown",
   "metadata": {},
   "source": [
    "Let's double-check the normality assumption by using the histplot and qqplot:"
   ]
  },
  {
   "cell_type": "code",
   "execution_count": 43,
   "metadata": {},
   "outputs": [
    {
     "data": {
      "image/png": "[encoded data removed]",
      "text/plain": [
       "<Figure size 432x288 with 1 Axes>"
      ]
     },
     "metadata": {
      "needs_background": "light"
     },
     "output_type": "display_data"
    }
   ],
   "source": [
    "# histogram of the residuals\n",
    "sns.histplot(residuals)\n",
    "plt.show();"
   ]
  },
  {
   "cell_type": "code",
   "execution_count": 44,
   "metadata": {},
   "outputs": [
    {
     "data": {
      "image/png": "[encoded data removed]",
      "text/plain": [
       "<Figure size 432x288 with 1 Axes>"
      ]
     },
     "metadata": {
      "needs_background": "light"
     },
     "output_type": "display_data"
    }
   ],
   "source": [
    "# qqplot of the residuals:\n",
    "sm.qqplot(residuals)\n",
    "plt.show();"
   ]
  },
  {
   "attachments": {},
   "cell_type": "markdown",
   "metadata": {},
   "source": [
    "From the histogram and qqplot, we can see that the residual is normally distributed."
   ]
  },
  {
   "attachments": {},
   "cell_type": "markdown",
   "metadata": {},
   "source": [
    "### Homoscedasticity Test"
   ]
  },
  {
   "cell_type": "code",
   "execution_count": 45,
   "metadata": {},
   "outputs": [
    {
     "data": {
      "text/plain": [
       "<matplotlib.lines.Line2D at 0x7fdf42c34cd0>"
      ]
     },
     "execution_count": 45,
     "metadata": {},
     "output_type": "execute_result"
    },
    {
     "data": {
      "image/png": "[encoded data removed]",
      "text/plain": [
       "<Figure size 432x288 with 1 Axes>"
      ]
     },
     "metadata": {
      "needs_background": "light"
     },
     "output_type": "display_data"
    }
   ],
   "source": [
    "ax = sns.scatterplot(x=DF_stations_yelp_POIs_Charac_pivot_numerical_drop0['POI_price_mean'], y=residuals)\n",
    "ax.axhline(0) #horizontal line at 0"
   ]
  },
  {
   "cell_type": "markdown",
   "metadata": {},
   "source": [
    "#### Breusch-Pagan test (among others) to formally test homoscedasticity.\n",
    "- H<sub>0</sub>: Homoscedasticity is present (the residuals are distributed with equal variance)\n",
    "- H<sub>a</sub>: Homoscedasticity is not present(the residuals are not distributed with equal variance)"
   ]
  },
  {
   "cell_type": "code",
   "execution_count": 46,
   "metadata": {},
   "outputs": [
    {
     "name": "stdout",
     "output_type": "stream",
     "text": [
      "3.7009600174172566e-19 6.84954026804474e-23\n"
     ]
    }
   ],
   "source": [
    "stat, p, f_stat, f_p = sm.stats.diagnostic.het_breuschpagan(residuals,result.model.exog)\n",
    "print(p,f_p) #actually performs two tests, so it returns two p-values"
   ]
  },
  {
   "attachments": {},
   "cell_type": "markdown",
   "metadata": {},
   "source": [
    "From the scatter plot and Breusch-Pagan test, we can see that the variance of the residuals is not constant. This violates the homoscedasticity assumption."
   ]
  },
  {
   "attachments": {},
   "cell_type": "markdown",
   "metadata": {},
   "source": [
    "## Regression Model 4 - Run linear regression using the cube square of the dep. variable"
   ]
  },
  {
   "attachments": {},
   "cell_type": "markdown",
   "metadata": {},
   "source": [
    "Building the regression model using the cube square of the dep. variable:"
   ]
  },
  {
   "cell_type": "code",
   "execution_count": 47,
   "metadata": {},
   "outputs": [
    {
     "name": "stdout",
     "output_type": "stream",
     "text": [
      "                                 OLS Regression Results                                \n",
      "=======================================================================================\n",
      "Dep. Variable:     station_free_bikes   R-squared (uncentered):                   0.958\n",
      "Model:                            OLS   Adj. R-squared (uncentered):              0.958\n",
      "Method:                 Least Squares   F-statistic:                              5398.\n",
      "Date:                Mon, 27 Feb 2023   Prob (F-statistic):                   1.34e-164\n",
      "Time:                        14:29:13   Log-Likelihood:                         -128.33\n",
      "No. Observations:                 237   AIC:                                      258.7\n",
      "Df Residuals:                     236   BIC:                                      262.1\n",
      "Df Model:                           1                                                  \n",
      "Covariance Type:            nonrobust                                                  \n",
      "======================================================================================\n",
      "                         coef    std err          t      P>|t|      [0.025      0.975]\n",
      "--------------------------------------------------------------------------------------\n",
      "POI_is_closed_mean          0          0        nan        nan           0           0\n",
      "POI_rating_mean        0.5415      0.007     73.473      0.000       0.527       0.556\n",
      "==============================================================================\n",
      "Omnibus:                        2.706   Durbin-Watson:                   1.737\n",
      "Prob(Omnibus):                  0.258   Jarque-Bera (JB):                2.611\n",
      "Skew:                           0.197   Prob(JB):                        0.271\n",
      "Kurtosis:                       2.669   Cond. No.                          inf\n",
      "==============================================================================\n",
      "\n",
      "Notes:\n",
      "[1] R² is computed without centering (uncentered) since the model does not contain a constant.\n",
      "[2] Standard Errors assume that the covariance matrix of the errors is correctly specified.\n",
      "[3] The smallest eigenvalue is      0. This might indicate that there are\n",
      "strong multicollinearity problems or that the design matrix is singular.\n"
     ]
    },
    {
     "name": "stderr",
     "output_type": "stream",
     "text": [
      "/Users/ds/opt/anaconda3/envs/THE_ONE/lib/python3.10/site-packages/statsmodels/regression/linear_model.py:1934: RuntimeWarning: divide by zero encountered in double_scalars\n",
      "  return np.sqrt(eigvals[0]/eigvals[-1])\n"
     ]
    }
   ],
   "source": [
    "y = y = np.cbrt(DF_stations_yelp_POIs_Charac_pivot_numerical_drop0['station_free_bikes'])\n",
    "X = DF_stations_yelp_POIs_Charac_pivot_numerical_drop0.drop(['station_free_bikes'], axis=1)\n",
    "X = sm.add_constant(X) #adds a column of 1's so the model will contain an intercept\n",
    "x_cols = pd.Index(['POI_is_closed_mean',\n",
    "       'POI_price_mean', 'POI_rating_mean', 'POI_review_count_mean'])\n",
    "\n",
    "result=backward_elimination_linear_regression(X, x_cols, y)\n",
    "print(result.summary())\n",
    "residuals = result.resid"
   ]
  },
  {
   "attachments": {},
   "cell_type": "markdown",
   "metadata": {},
   "source": [
    "### Normality Test"
   ]
  },
  {
   "cell_type": "code",
   "execution_count": 48,
   "metadata": {},
   "outputs": [
    {
     "data": {
      "text/plain": [
       "ShapiroResult(statistic=0.9905505180358887, pvalue=0.1269000768661499)"
      ]
     },
     "execution_count": 48,
     "metadata": {},
     "output_type": "execute_result"
    }
   ],
   "source": [
    "scipy.stats.shapiro(residuals)\n"
   ]
  },
  {
   "cell_type": "code",
   "execution_count": 49,
   "metadata": {},
   "outputs": [
    {
     "data": {
      "image/png": "[encoded data removed]",
      "text/plain": [
       "<Figure size 432x288 with 1 Axes>"
      ]
     },
     "metadata": {
      "needs_background": "light"
     },
     "output_type": "display_data"
    }
   ],
   "source": [
    "# histogram of the residuals\n",
    "sns.histplot(residuals)\n",
    "plt.show();"
   ]
  },
  {
   "cell_type": "code",
   "execution_count": 50,
   "metadata": {},
   "outputs": [
    {
     "data": {
      "image/png": "[encoded data removed]",
      "text/plain": [
       "<Figure size 432x288 with 1 Axes>"
      ]
     },
     "metadata": {
      "needs_background": "light"
     },
     "output_type": "display_data"
    }
   ],
   "source": [
    "# qqplot of the residuals:\n",
    "sm.qqplot(residuals)\n",
    "plt.show();"
   ]
  },
  {
   "attachments": {},
   "cell_type": "markdown",
   "metadata": {},
   "source": [
    "### Homoscedasticity Test\n"
   ]
  },
  {
   "cell_type": "code",
   "execution_count": 51,
   "metadata": {},
   "outputs": [
    {
     "data": {
      "text/plain": [
       "<matplotlib.lines.Line2D at 0x7fdf3290b160>"
      ]
     },
     "execution_count": 51,
     "metadata": {},
     "output_type": "execute_result"
    },
    {
     "data": {
      "image/png": "[encoded data removed]",
      "text/plain": [
       "<Figure size 432x288 with 1 Axes>"
      ]
     },
     "metadata": {
      "needs_background": "light"
     },
     "output_type": "display_data"
    }
   ],
   "source": [
    "ax = sns.scatterplot(x=DF_stations_yelp_POIs_Charac_pivot_numerical_drop0['POI_rating_mean'], y=residuals)\n",
    "ax.axhline(0) #horizontal line at 0"
   ]
  },
  {
   "attachments": {},
   "cell_type": "markdown",
   "metadata": {},
   "source": [
    "### Breusch-Pagan test\n"
   ]
  },
  {
   "cell_type": "code",
   "execution_count": 52,
   "metadata": {},
   "outputs": [
    {
     "name": "stdout",
     "output_type": "stream",
     "text": [
      "1.4691905882422536e-20 4.940312429066477e-25\n"
     ]
    }
   ],
   "source": [
    "stat, p, f_stat, f_p = sm.stats.diagnostic.het_breuschpagan(residuals,result.model.exog)\n",
    "print(p,f_p) #actually performs two tests, so it returns two p-values"
   ]
  },
  {
   "attachments": {},
   "cell_type": "markdown",
   "metadata": {},
   "source": [
    "The result from cube square method is not as good as the square root method. Therefore, we will use the square root of the dep. variable.\n"
   ]
  },
  {
   "attachments": {},
   "cell_type": "markdown",
   "metadata": {},
   "source": [
    "By comparison, we can see that the free bike numbers is related to either the avarage Yelp ratings or the average Yelp price.\n",
    "\n",
    "| Dep. Var. Transform | Indepedant Variable |Coefficient | p-value  | Normality Assumption | Homoscedacity Assumption |\n",
    "| --- | --- | --- | --- | --- | --- |\n",
    "| linear | POI_price_mean | 4.7034 | 0.000 |  No | No |\n",
    "| log | POI_rating_mean  |0.5438 | 0.000 | No | No |\n",
    "| square root | POI_price_mean | 1.5285 | 0.000 | Yes | No |\n",
    "| cube root | POI_rating_mean | 0.5415 | 0.000 | Yes | No |\n",
    "\n",
    "\n",
    "\n"
   ]
  },
  {
   "attachments": {},
   "cell_type": "markdown",
   "metadata": {},
   "source": [
    "## Model 5 - p-value threshold 0.05 while using the square root of the dep. variable\n"
   ]
  },
  {
   "attachments": {},
   "cell_type": "markdown",
   "metadata": {},
   "source": [
    "Set the threshold to 0.05:"
   ]
  },
  {
   "cell_type": "code",
   "execution_count": 53,
   "metadata": {},
   "outputs": [],
   "source": [
    "y = np.sqrt(DF_stations_yelp_POIs_Charac_pivot_numerical_drop0['station_free_bikes'])\n",
    "X = DF_stations_yelp_POIs_Charac_pivot_numerical_drop0.drop(['station_free_bikes'], axis=1)\n",
    "X = sm.add_constant(X) #adds a column of 1's so the model will contain an intercept\n",
    "x_cols = pd.Index(['POI_price_mean', 'POI_rating_mean', 'POI_review_count_mean'])\n"
   ]
  },
  {
   "cell_type": "code",
   "execution_count": 54,
   "metadata": {},
   "outputs": [
    {
     "name": "stdout",
     "output_type": "stream",
     "text": [
      "                                 OLS Regression Results                                \n",
      "=======================================================================================\n",
      "Dep. Variable:     station_free_bikes   R-squared (uncentered):                   0.917\n",
      "Model:                            OLS   Adj. R-squared (uncentered):              0.916\n",
      "Method:                 Least Squares   F-statistic:                              1300.\n",
      "Date:                Mon, 27 Feb 2023   Prob (F-statistic):                   8.16e-128\n",
      "Time:                        14:29:14   Log-Likelihood:                         -300.03\n",
      "No. Observations:                 237   AIC:                                      604.1\n",
      "Df Residuals:                     235   BIC:                                      611.0\n",
      "Df Model:                           2                                                  \n",
      "Covariance Type:            nonrobust                                                  \n",
      "===================================================================================\n",
      "                      coef    std err          t      P>|t|      [0.025      0.975]\n",
      "-----------------------------------------------------------------------------------\n",
      "POI_price_mean      0.8714      0.304      2.866      0.005       0.272       1.470\n",
      "POI_rating_mean     0.3355      0.154      2.172      0.031       0.031       0.640\n",
      "==============================================================================\n",
      "Omnibus:                        3.864   Durbin-Watson:                   1.806\n",
      "Prob(Omnibus):                  0.145   Jarque-Bera (JB):                3.863\n",
      "Skew:                           0.310   Prob(JB):                        0.145\n",
      "Kurtosis:                       2.920   Cond. No.                         25.1\n",
      "==============================================================================\n",
      "\n",
      "Notes:\n",
      "[1] R² is computed without centering (uncentered) since the model does not contain a constant.\n",
      "[2] Standard Errors assume that the covariance matrix of the errors is correctly specified.\n"
     ]
    }
   ],
   "source": [
    "result=backward_elimination_linear_regression(X, x_cols, y, 0.05)\n",
    "print(result.summary())\n",
    "residuals = result.resid"
   ]
  },
  {
   "attachments": {},
   "cell_type": "markdown",
   "metadata": {},
   "source": [
    "This time return the both the two possible independent variables: POI_price_mean and POI_rating_mean."
   ]
  },
  {
   "attachments": {},
   "cell_type": "markdown",
   "metadata": {},
   "source": [
    "# Normality Test\n"
   ]
  },
  {
   "cell_type": "code",
   "execution_count": 55,
   "metadata": {},
   "outputs": [
    {
     "data": {
      "image/png": "[encoded data removed]",
      "text/plain": [
       "<Figure size 432x288 with 1 Axes>"
      ]
     },
     "metadata": {
      "needs_background": "light"
     },
     "output_type": "display_data"
    }
   ],
   "source": [
    "# histogram of the residuals\n",
    "sns.histplot(residuals)\n",
    "plt.show();"
   ]
  },
  {
   "cell_type": "code",
   "execution_count": 56,
   "metadata": {},
   "outputs": [
    {
     "data": {
      "image/png": "[encoded data removed]",
      "text/plain": [
       "<Figure size 432x288 with 1 Axes>"
      ]
     },
     "metadata": {
      "needs_background": "light"
     },
     "output_type": "display_data"
    }
   ],
   "source": [
    "# qqplot of the residuals:\n",
    "sm.qqplot(residuals)\n",
    "plt.show();"
   ]
  },
  {
   "attachments": {},
   "cell_type": "markdown",
   "metadata": {},
   "source": [
    "# Homoscedasticity Test"
   ]
  },
  {
   "cell_type": "code",
   "execution_count": 57,
   "metadata": {},
   "outputs": [
    {
     "data": {
      "text/plain": [
       "<matplotlib.lines.Line2D at 0x7fdf238e8c70>"
      ]
     },
     "execution_count": 57,
     "metadata": {},
     "output_type": "execute_result"
    },
    {
     "data": {
      "image/png": "[encoded data removed]",
      "text/plain": [
       "<Figure size 432x288 with 1 Axes>"
      ]
     },
     "metadata": {
      "needs_background": "light"
     },
     "output_type": "display_data"
    }
   ],
   "source": [
    "# Scatterplot of the residuals\n",
    "ax = sns.scatterplot(x=DF_stations_yelp_POIs_Charac_pivot_numerical_drop0['POI_rating_mean'], y=residuals)\n",
    "ax.axhline(0) #horizontal line at 0"
   ]
  },
  {
   "cell_type": "code",
   "execution_count": 58,
   "metadata": {},
   "outputs": [
    {
     "data": {
      "text/plain": [
       "<matplotlib.lines.Line2D at 0x7fdf12987850>"
      ]
     },
     "execution_count": 58,
     "metadata": {},
     "output_type": "execute_result"
    },
    {
     "data": {
      "image/png": "[encoded data removed]",
      "text/plain": [
       "<Figure size 432x288 with 1 Axes>"
      ]
     },
     "metadata": {
      "needs_background": "light"
     },
     "output_type": "display_data"
    }
   ],
   "source": [
    "ax = sns.scatterplot(x=DF_stations_yelp_POIs_Charac_pivot_numerical_drop0['POI_price_mean'], y=residuals)\n",
    "ax.axhline(0) #horizontal line at 0"
   ]
  },
  {
   "cell_type": "markdown",
   "metadata": {},
   "source": [
    "### Breusch-Pagan test\n"
   ]
  },
  {
   "cell_type": "code",
   "execution_count": 59,
   "metadata": {},
   "outputs": [
    {
     "name": "stdout",
     "output_type": "stream",
     "text": [
      "4.231317966505942e-20 3.673384316602147e-23\n"
     ]
    }
   ],
   "source": [
    "stat, p, f_stat, f_p = sm.stats.diagnostic.het_breuschpagan(residuals,result.model.exog)\n",
    "print(p,f_p) #actually performs two tests, so it returns two p-values"
   ]
  },
  {
   "attachments": {},
   "cell_type": "markdown",
   "metadata": {},
   "source": [
    "The homoscedasticity assumption is violated. "
   ]
  },
  {
   "cell_type": "markdown",
   "metadata": {},
   "source": [
    "# Stretch"
   ]
  },
  {
   "cell_type": "markdown",
   "metadata": {},
   "source": [
    "How can you turn the regression model into a classification model?"
   ]
  },
  {
   "attachments": {},
   "cell_type": "markdown",
   "metadata": {},
   "source": [
    "We can use the ratio of free bikes to all slots as the indicator for the poplarity of the station. Then we can set a threshold to classify the stations into two groups: high-popular and low-popular."
   ]
  },
  {
   "cell_type": "code",
   "execution_count": 60,
   "metadata": {},
   "outputs": [
    {
     "data": {
      "text/plain": [
       "Index(['station_empty_slots', 'station_free_bikes', 'station_normal_bikes',\n",
       "       'station_ebikes', 'station_slots', 'POI_distance_mean',\n",
       "       'POI_is_closed_mean', 'POI_price_mean', 'POI_rating_mean',\n",
       "       'POI_review_count_mean'],\n",
       "      dtype='object')"
      ]
     },
     "execution_count": 60,
     "metadata": {},
     "output_type": "execute_result"
    },
    {
     "data": {
      "text/plain": [
       "(241, 10)"
      ]
     },
     "execution_count": 60,
     "metadata": {},
     "output_type": "execute_result"
    }
   ],
   "source": [
    "DF_stations_yelp_POIs_Charac_pivot_numerical.columns\n",
    "DF_stations_yelp_POIs_Charac_pivot_numerical.shape"
   ]
  },
  {
   "attachments": {},
   "cell_type": "markdown",
   "metadata": {},
   "source": [
    "Examine the distribution of the ratio of free bikes to all slots:"
   ]
  },
  {
   "cell_type": "code",
   "execution_count": 61,
   "metadata": {},
   "outputs": [
    {
     "data": {
      "text/plain": [
       "count    241.000000\n",
       "mean       0.456273\n",
       "std        0.223460\n",
       "min        0.000000\n",
       "25%        0.300000\n",
       "50%        0.437500\n",
       "75%        0.600000\n",
       "max        1.000000\n",
       "Name: Popularity, dtype: float64"
      ]
     },
     "execution_count": 61,
     "metadata": {},
     "output_type": "execute_result"
    }
   ],
   "source": [
    "DF_stations_yelp_POIs_Charac_pivot_numerical_categorical = DF_stations_yelp_POIs_Charac_pivot_numerical.copy()\n",
    "\n",
    "# By define a new column called 'station_free_bikes'/ 'station_slots'\n",
    "DF_stations_yelp_POIs_Charac_pivot_numerical_categorical['Popularity'] = DF_stations_yelp_POIs_Charac_pivot_numerical_categorical['station_free_bikes']/DF_stations_yelp_POIs_Charac_pivot_numerical_categorical['station_slots']\n",
    "\n",
    "# show the statistics of the new column\n",
    "\n",
    "DF_stations_yelp_POIs_Charac_pivot_numerical_categorical['Popularity'].describe()\n"
   ]
  },
  {
   "attachments": {},
   "cell_type": "markdown",
   "metadata": {},
   "source": [
    "Since the mean is easily affected by outliers, we can use the median as the threshold to classify the stations into two groups: high-popular and low-popular.\n"
   ]
  },
  {
   "cell_type": "code",
   "execution_count": 62,
   "metadata": {},
   "outputs": [],
   "source": [
    "# use the median as an indicator to define the Popularity of the station\n",
    "# if Popularity > median, substitute the value with 1, otherwise 0\n",
    "DF_stations_yelp_POIs_Charac_pivot_numerical_categorical['Popularity'] = DF_stations_yelp_POIs_Charac_pivot_numerical_categorical['Popularity'].apply(lambda x: 1 if x > 0.437500 else 0)"
   ]
  },
  {
   "attachments": {},
   "cell_type": "markdown",
   "metadata": {},
   "source": [
    "Examine the unique values in the 'Popularity' column:"
   ]
  },
  {
   "cell_type": "code",
   "execution_count": 63,
   "metadata": {},
   "outputs": [
    {
     "data": {
      "text/plain": [
       "Index(['station_empty_slots', 'station_free_bikes', 'station_normal_bikes',\n",
       "       'station_ebikes', 'station_slots', 'POI_distance_mean',\n",
       "       'POI_is_closed_mean', 'POI_price_mean', 'POI_rating_mean',\n",
       "       'POI_review_count_mean', 'Popularity'],\n",
       "      dtype='object')"
      ]
     },
     "execution_count": 63,
     "metadata": {},
     "output_type": "execute_result"
    },
    {
     "data": {
      "text/plain": [
       "(241, 11)"
      ]
     },
     "execution_count": 63,
     "metadata": {},
     "output_type": "execute_result"
    },
    {
     "data": {
      "text/plain": [
       "0    125\n",
       "1    116\n",
       "Name: Popularity, dtype: int64"
      ]
     },
     "execution_count": 63,
     "metadata": {},
     "output_type": "execute_result"
    }
   ],
   "source": [
    "DF_stations_yelp_POIs_Charac_pivot_numerical_categorical.columns\n",
    "DF_stations_yelp_POIs_Charac_pivot_numerical_categorical.shape\n",
    "DF_stations_yelp_POIs_Charac_pivot_numerical_categorical['Popularity'].value_counts()"
   ]
  },
  {
   "attachments": {},
   "cell_type": "markdown",
   "metadata": {},
   "source": [
    "Now we can start working on this classification model by performing the logistic regressions.\n",
    "\n",
    "The dependant is the Popularity of the station. \n",
    "\n",
    "\n"
   ]
  },
  {
   "attachments": {},
   "cell_type": "markdown",
   "metadata": {},
   "source": [
    "Define a function to perform backward elimination:"
   ]
  },
  {
   "cell_type": "code",
   "execution_count": 64,
   "metadata": {},
   "outputs": [],
   "source": [
    "# Define a function to perform backward elimination\n",
    "\n",
    "def backward_elimination_Logit(DF, col_list, dep_var):\n",
    "    \"\"\" Takes in the dataframe, the list of columns and the dependent variable, runs the regression repeatedly eleminating feature with the highest\n",
    "    P-value above alpha one at a time and returns the regression summary with all p-values below alpha\"\"\"\n",
    "    while len(col_list)>0 :\n",
    "        model=sm.Logit(dep_var.astype(float),DF[col_list].astype(float))\n",
    "        result=model.fit()\n",
    "        largest_pvalue=round(result.pvalues,3).nlargest(1)\n",
    "        if largest_pvalue[0]<(0.0001):\n",
    "            return result\n",
    "            break\n",
    "        else:\n",
    "            col_list=col_list.drop(largest_pvalue.index)"
   ]
  },
  {
   "cell_type": "markdown",
   "metadata": {},
   "source": [
    "Set up the model:"
   ]
  },
  {
   "cell_type": "code",
   "execution_count": 65,
   "metadata": {},
   "outputs": [],
   "source": [
    "y = DF_stations_yelp_POIs_Charac_pivot_numerical_categorical['Popularity']\n",
    "X = DF_stations_yelp_POIs_Charac_pivot_numerical_categorical.drop(['Popularity'], axis=1)\n",
    "X = sm.add_constant(X) #adds a column of 1's so the model will contain an intercept\n",
    "x_cols = pd.Index(['POI_is_closed_mean',\n",
    "       'POI_price_mean', 'POI_rating_mean', 'POI_review_count_mean'])\n"
   ]
  },
  {
   "attachments": {},
   "cell_type": "markdown",
   "metadata": {},
   "source": [
    "When running the function, There is a LinAlgError: Singular matrix."
   ]
  },
  {
   "cell_type": "code",
   "execution_count": 66,
   "metadata": {},
   "outputs": [
    {
     "name": "stdout",
     "output_type": "stream",
     "text": [
      "Optimization terminated successfully.\n",
      "         Current function value: 0.689861\n",
      "         Iterations 4\n"
     ]
    },
    {
     "ename": "LinAlgError",
     "evalue": "Singular matrix",
     "output_type": "error",
     "traceback": [
      "\u001b[0;31m---------------------------------------------------------------------------\u001b[0m",
      "\u001b[0;31mLinAlgError\u001b[0m                               Traceback (most recent call last)",
      "\u001b[1;32m/Volumes/DavinciMovie.Vol1/Dropbox/Data Science LHL Course/w03d5/project/Submit Version/Final-Project-Statistical-Modelling-with-Python/notebooks/model_building.ipynb Cell 113\u001b[0m in \u001b[0;36m<cell line: 1>\u001b[0;34m()\u001b[0m\n\u001b[0;32m----> <a href='vscode-notebook-cell:/Volumes/DavinciMovie.Vol1/Dropbox/Data%20Science%20LHL%20Course/w03d5/project/Submit%20Version/Final-Project-Statistical-Modelling-with-Python/notebooks/model_building.ipynb#Y220sZmlsZQ%3D%3D?line=0'>1</a>\u001b[0m result\u001b[39m=\u001b[39mbackward_elimination_Logit(X, x_cols, y)\n\u001b[1;32m      <a href='vscode-notebook-cell:/Volumes/DavinciMovie.Vol1/Dropbox/Data%20Science%20LHL%20Course/w03d5/project/Submit%20Version/Final-Project-Statistical-Modelling-with-Python/notebooks/model_building.ipynb#Y220sZmlsZQ%3D%3D?line=1'>2</a>\u001b[0m \u001b[39mprint\u001b[39m(result\u001b[39m.\u001b[39msummary())\n\u001b[1;32m      <a href='vscode-notebook-cell:/Volumes/DavinciMovie.Vol1/Dropbox/Data%20Science%20LHL%20Course/w03d5/project/Submit%20Version/Final-Project-Statistical-Modelling-with-Python/notebooks/model_building.ipynb#Y220sZmlsZQ%3D%3D?line=2'>3</a>\u001b[0m residuals \u001b[39m=\u001b[39m result\u001b[39m.\u001b[39mresid\n",
      "\u001b[1;32m/Volumes/DavinciMovie.Vol1/Dropbox/Data Science LHL Course/w03d5/project/Submit Version/Final-Project-Statistical-Modelling-with-Python/notebooks/model_building.ipynb Cell 113\u001b[0m in \u001b[0;36mbackward_elimination_Logit\u001b[0;34m(DF, col_list, dep_var)\u001b[0m\n\u001b[1;32m      <a href='vscode-notebook-cell:/Volumes/DavinciMovie.Vol1/Dropbox/Data%20Science%20LHL%20Course/w03d5/project/Submit%20Version/Final-Project-Statistical-Modelling-with-Python/notebooks/model_building.ipynb#Y220sZmlsZQ%3D%3D?line=5'>6</a>\u001b[0m \u001b[39mwhile\u001b[39;00m \u001b[39mlen\u001b[39m(col_list)\u001b[39m>\u001b[39m\u001b[39m0\u001b[39m :\n\u001b[1;32m      <a href='vscode-notebook-cell:/Volumes/DavinciMovie.Vol1/Dropbox/Data%20Science%20LHL%20Course/w03d5/project/Submit%20Version/Final-Project-Statistical-Modelling-with-Python/notebooks/model_building.ipynb#Y220sZmlsZQ%3D%3D?line=6'>7</a>\u001b[0m     model\u001b[39m=\u001b[39msm\u001b[39m.\u001b[39mLogit(dep_var\u001b[39m.\u001b[39mastype(\u001b[39mfloat\u001b[39m),DF[col_list]\u001b[39m.\u001b[39mastype(\u001b[39mfloat\u001b[39m))\n\u001b[0;32m----> <a href='vscode-notebook-cell:/Volumes/DavinciMovie.Vol1/Dropbox/Data%20Science%20LHL%20Course/w03d5/project/Submit%20Version/Final-Project-Statistical-Modelling-with-Python/notebooks/model_building.ipynb#Y220sZmlsZQ%3D%3D?line=7'>8</a>\u001b[0m     result\u001b[39m=\u001b[39mmodel\u001b[39m.\u001b[39;49mfit()\n\u001b[1;32m      <a href='vscode-notebook-cell:/Volumes/DavinciMovie.Vol1/Dropbox/Data%20Science%20LHL%20Course/w03d5/project/Submit%20Version/Final-Project-Statistical-Modelling-with-Python/notebooks/model_building.ipynb#Y220sZmlsZQ%3D%3D?line=8'>9</a>\u001b[0m     largest_pvalue\u001b[39m=\u001b[39m\u001b[39mround\u001b[39m(result\u001b[39m.\u001b[39mpvalues,\u001b[39m3\u001b[39m)\u001b[39m.\u001b[39mnlargest(\u001b[39m1\u001b[39m)\n\u001b[1;32m     <a href='vscode-notebook-cell:/Volumes/DavinciMovie.Vol1/Dropbox/Data%20Science%20LHL%20Course/w03d5/project/Submit%20Version/Final-Project-Statistical-Modelling-with-Python/notebooks/model_building.ipynb#Y220sZmlsZQ%3D%3D?line=9'>10</a>\u001b[0m     \u001b[39mif\u001b[39;00m largest_pvalue[\u001b[39m0\u001b[39m]\u001b[39m<\u001b[39m(\u001b[39m0.0001\u001b[39m):\n",
      "File \u001b[0;32m~/opt/anaconda3/envs/THE_ONE/lib/python3.10/site-packages/statsmodels/discrete/discrete_model.py:1983\u001b[0m, in \u001b[0;36mLogit.fit\u001b[0;34m(self, start_params, method, maxiter, full_output, disp, callback, **kwargs)\u001b[0m\n\u001b[1;32m   1980\u001b[0m \u001b[39m@Appender\u001b[39m(DiscreteModel\u001b[39m.\u001b[39mfit\u001b[39m.\u001b[39m\u001b[39m__doc__\u001b[39m)\n\u001b[1;32m   1981\u001b[0m \u001b[39mdef\u001b[39;00m \u001b[39mfit\u001b[39m(\u001b[39mself\u001b[39m, start_params\u001b[39m=\u001b[39m\u001b[39mNone\u001b[39;00m, method\u001b[39m=\u001b[39m\u001b[39m'\u001b[39m\u001b[39mnewton\u001b[39m\u001b[39m'\u001b[39m, maxiter\u001b[39m=\u001b[39m\u001b[39m35\u001b[39m,\n\u001b[1;32m   1982\u001b[0m         full_output\u001b[39m=\u001b[39m\u001b[39m1\u001b[39m, disp\u001b[39m=\u001b[39m\u001b[39m1\u001b[39m, callback\u001b[39m=\u001b[39m\u001b[39mNone\u001b[39;00m, \u001b[39m*\u001b[39m\u001b[39m*\u001b[39mkwargs):\n\u001b[0;32m-> 1983\u001b[0m     bnryfit \u001b[39m=\u001b[39m \u001b[39msuper\u001b[39;49m()\u001b[39m.\u001b[39;49mfit(start_params\u001b[39m=\u001b[39;49mstart_params,\n\u001b[1;32m   1984\u001b[0m                           method\u001b[39m=\u001b[39;49mmethod,\n\u001b[1;32m   1985\u001b[0m                           maxiter\u001b[39m=\u001b[39;49mmaxiter,\n\u001b[1;32m   1986\u001b[0m                           full_output\u001b[39m=\u001b[39;49mfull_output,\n\u001b[1;32m   1987\u001b[0m                           disp\u001b[39m=\u001b[39;49mdisp,\n\u001b[1;32m   1988\u001b[0m                           callback\u001b[39m=\u001b[39;49mcallback,\n\u001b[1;32m   1989\u001b[0m                           \u001b[39m*\u001b[39;49m\u001b[39m*\u001b[39;49mkwargs)\n\u001b[1;32m   1991\u001b[0m     discretefit \u001b[39m=\u001b[39m LogitResults(\u001b[39mself\u001b[39m, bnryfit)\n\u001b[1;32m   1992\u001b[0m     \u001b[39mreturn\u001b[39;00m BinaryResultsWrapper(discretefit)\n",
      "File \u001b[0;32m~/opt/anaconda3/envs/THE_ONE/lib/python3.10/site-packages/statsmodels/discrete/discrete_model.py:230\u001b[0m, in \u001b[0;36mDiscreteModel.fit\u001b[0;34m(self, start_params, method, maxiter, full_output, disp, callback, **kwargs)\u001b[0m\n\u001b[1;32m    227\u001b[0m \u001b[39melse\u001b[39;00m:\n\u001b[1;32m    228\u001b[0m     \u001b[39mpass\u001b[39;00m  \u001b[39m# TODO: make a function factory to have multiple call-backs\u001b[39;00m\n\u001b[0;32m--> 230\u001b[0m mlefit \u001b[39m=\u001b[39m \u001b[39msuper\u001b[39;49m()\u001b[39m.\u001b[39;49mfit(start_params\u001b[39m=\u001b[39;49mstart_params,\n\u001b[1;32m    231\u001b[0m                      method\u001b[39m=\u001b[39;49mmethod,\n\u001b[1;32m    232\u001b[0m                      maxiter\u001b[39m=\u001b[39;49mmaxiter,\n\u001b[1;32m    233\u001b[0m                      full_output\u001b[39m=\u001b[39;49mfull_output,\n\u001b[1;32m    234\u001b[0m                      disp\u001b[39m=\u001b[39;49mdisp,\n\u001b[1;32m    235\u001b[0m                      callback\u001b[39m=\u001b[39;49mcallback,\n\u001b[1;32m    236\u001b[0m                      \u001b[39m*\u001b[39;49m\u001b[39m*\u001b[39;49mkwargs)\n\u001b[1;32m    238\u001b[0m \u001b[39mreturn\u001b[39;00m mlefit\n",
      "File \u001b[0;32m~/opt/anaconda3/envs/THE_ONE/lib/python3.10/site-packages/statsmodels/base/model.py:579\u001b[0m, in \u001b[0;36mLikelihoodModel.fit\u001b[0;34m(self, start_params, method, maxiter, full_output, disp, fargs, callback, retall, skip_hessian, **kwargs)\u001b[0m\n\u001b[1;32m    577\u001b[0m     Hinv \u001b[39m=\u001b[39m cov_params_func(\u001b[39mself\u001b[39m, xopt, retvals)\n\u001b[1;32m    578\u001b[0m \u001b[39melif\u001b[39;00m method \u001b[39m==\u001b[39m \u001b[39m'\u001b[39m\u001b[39mnewton\u001b[39m\u001b[39m'\u001b[39m \u001b[39mand\u001b[39;00m full_output:\n\u001b[0;32m--> 579\u001b[0m     Hinv \u001b[39m=\u001b[39m np\u001b[39m.\u001b[39;49mlinalg\u001b[39m.\u001b[39;49minv(\u001b[39m-\u001b[39;49mretvals[\u001b[39m'\u001b[39;49m\u001b[39mHessian\u001b[39;49m\u001b[39m'\u001b[39;49m]) \u001b[39m/\u001b[39m nobs\n\u001b[1;32m    580\u001b[0m \u001b[39melif\u001b[39;00m \u001b[39mnot\u001b[39;00m skip_hessian:\n\u001b[1;32m    581\u001b[0m     H \u001b[39m=\u001b[39m \u001b[39m-\u001b[39m\u001b[39m1\u001b[39m \u001b[39m*\u001b[39m \u001b[39mself\u001b[39m\u001b[39m.\u001b[39mhessian(xopt)\n",
      "File \u001b[0;32m<__array_function__ internals>:5\u001b[0m, in \u001b[0;36minv\u001b[0;34m(*args, **kwargs)\u001b[0m\n",
      "File \u001b[0;32m~/opt/anaconda3/envs/THE_ONE/lib/python3.10/site-packages/numpy/linalg/linalg.py:545\u001b[0m, in \u001b[0;36minv\u001b[0;34m(a)\u001b[0m\n\u001b[1;32m    543\u001b[0m signature \u001b[39m=\u001b[39m \u001b[39m'\u001b[39m\u001b[39mD->D\u001b[39m\u001b[39m'\u001b[39m \u001b[39mif\u001b[39;00m isComplexType(t) \u001b[39melse\u001b[39;00m \u001b[39m'\u001b[39m\u001b[39md->d\u001b[39m\u001b[39m'\u001b[39m\n\u001b[1;32m    544\u001b[0m extobj \u001b[39m=\u001b[39m get_linalg_error_extobj(_raise_linalgerror_singular)\n\u001b[0;32m--> 545\u001b[0m ainv \u001b[39m=\u001b[39m _umath_linalg\u001b[39m.\u001b[39;49minv(a, signature\u001b[39m=\u001b[39;49msignature, extobj\u001b[39m=\u001b[39;49mextobj)\n\u001b[1;32m    546\u001b[0m \u001b[39mreturn\u001b[39;00m wrap(ainv\u001b[39m.\u001b[39mastype(result_t, copy\u001b[39m=\u001b[39m\u001b[39mFalse\u001b[39;00m))\n",
      "File \u001b[0;32m~/opt/anaconda3/envs/THE_ONE/lib/python3.10/site-packages/numpy/linalg/linalg.py:88\u001b[0m, in \u001b[0;36m_raise_linalgerror_singular\u001b[0;34m(err, flag)\u001b[0m\n\u001b[1;32m     87\u001b[0m \u001b[39mdef\u001b[39;00m \u001b[39m_raise_linalgerror_singular\u001b[39m(err, flag):\n\u001b[0;32m---> 88\u001b[0m     \u001b[39mraise\u001b[39;00m LinAlgError(\u001b[39m\"\u001b[39m\u001b[39mSingular matrix\u001b[39m\u001b[39m\"\u001b[39m)\n",
      "\u001b[0;31mLinAlgError\u001b[0m: Singular matrix"
     ]
    }
   ],
   "source": [
    "result=backward_elimination_Logit(X, x_cols, y)\n",
    "print(result.summary())\n",
    "residuals = result.resid\n"
   ]
  }
 ],
 "metadata": {
  "kernelspec": {
   "display_name": "THE_ONE",
   "language": "python",
   "name": "python3"
  },
  "language_info": {
   "codemirror_mode": {
    "name": "ipython",
    "version": 3
   },
   "file_extension": ".py",
   "mimetype": "text/x-python",
   "name": "python",
   "nbconvert_exporter": "python",
   "pygments_lexer": "ipython3",
   "version": "3.10.4"
  },
  "vscode": {
   "interpreter": {
    "hash": "a4ee8cb5db394d430373f6d58146d374176e9fb8684a02c9e4a7e7b50e12400e"
   }
  }
 },
 "nbformat": 4,
 "nbformat_minor": 4
}
