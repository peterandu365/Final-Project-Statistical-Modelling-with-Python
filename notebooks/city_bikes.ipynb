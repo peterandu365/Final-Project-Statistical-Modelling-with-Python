{
 "cells": [
  {
   "cell_type": "code",
   "execution_count": 1,
   "metadata": {},
   "outputs": [],
   "source": [
    "from IPython.core.interactiveshell import InteractiveShell\n",
    "InteractiveShell.ast_node_interactivity =  \"all\""
   ]
  },
  {
   "cell_type": "code",
   "execution_count": 2,
   "metadata": {},
   "outputs": [],
   "source": [
    "import requests as req\n",
    "import json\n",
    "import pandas as pd\n",
    "import numpy as np\n",
    "import matplotlib.pyplot as plt\n",
    "from IPython.display import JSON"
   ]
  },
  {
   "cell_type": "markdown",
   "metadata": {},
   "source": [
    "# CityBikes"
   ]
  },
  {
   "cell_type": "markdown",
   "metadata": {},
   "source": [
    "Send a request to CityBikes for the city of your choice. "
   ]
  },
  {
   "cell_type": "code",
   "execution_count": 3,
   "metadata": {},
   "outputs": [
    {
     "name": "stdout",
     "output_type": "stream",
     "text": [
      "The cities with the most networks are:\n"
     ]
    },
    {
     "data": {
      "text/plain": [
       "Nicosia       2\n",
       "Berlin        2\n",
       "Warszawa      2\n",
       "Ljubljana     2\n",
       "Poznań        2\n",
       "Calais        2\n",
       "Bergamo       2\n",
       "São Paulo     2\n",
       "Bratislava    2\n",
       "Budapest      1\n",
       "Name: location.city, dtype: int64"
      ]
     },
     "execution_count": 3,
     "metadata": {},
     "output_type": "execute_result"
    },
    {
     "name": "stdout",
     "output_type": "stream",
     "text": [
      "My choice of city:  Vancouver\n",
      "The network(s) in the city:  ['mobibikes']\n"
     ]
    }
   ],
   "source": [
    "# set the data path\n",
    "data_path = '../data/'\n",
    "\n",
    "# Set the URL\n",
    "URL = \"https://api.citybik.es/v2/networks\"\n",
    "\n",
    "# Look up the avaliable cities and the networks in the city\n",
    "# Get the response\n",
    "response = req.get(URL)\n",
    "response_json = response.json()\n",
    "df_networks = pd.json_normalize(data= response_json['networks'])\n",
    "df_networks.to_csv(data_path + 'city_bikes_networks.csv', index=False)\n",
    "\n",
    "# \n",
    "# print the cities with the most networks\n",
    "print(\"The cities with the most networks are:\")\n",
    "df_networks['location.city'].value_counts().head(10)\n",
    "\n",
    "\n",
    "# set the target city to Vancouver\n",
    "city = 'Vancouver'\n",
    "# city = 'Berlin'\n",
    "# city  = 'Nicosia'\n",
    "# city  = 'Warszawa'\n",
    "# city  = 'Ljubljana'\n",
    "# city  = 'Poznań'\n",
    "# city  = 'Calais'\n",
    "# city = 'Toronto'\n",
    "\n",
    "# print my choice of city\n",
    "print(\"My choice of city: \", city)\n",
    "\n",
    "# lis the networks in the city\n",
    "network_ids = df_networks[df_networks['location.city'].str.contains(city)]['id'].values[:].tolist()\n",
    "\n",
    "# print the networks_ids in the city\n",
    "print(\"The network(s) in the city: \", network_ids)\n",
    "\n"
   ]
  },
  {
   "cell_type": "markdown",
   "metadata": {},
   "source": [
    "Parse through the response to get the details you want for the bike stations in that city (latitude, longitude, number of bikes). "
   ]
  },
  {
   "cell_type": "code",
   "execution_count": 4,
   "metadata": {},
   "outputs": [
    {
     "name": "stdout",
     "output_type": "stream",
     "text": [
      "The number of stations in Vancouver is 241.\n"
     ]
    }
   ],
   "source": [
    "# further request the stations for the target 'city' by using the network_id list:\n",
    "\n",
    "# create a blank dataframe\n",
    "df_city_stations = pd.DataFrame()\n",
    "\n",
    "for id in network_ids:\n",
    "    URL_stations = \"https://api.citybik.es/v2/networks/\"+id\n",
    "    response_stations = req.get(URL_stations)\n",
    "    response_stations_json = response_stations.json()\n",
    "\n",
    "    json_dumps_stations = json.dumps(response_stations_json, indent=4)\n",
    "\n",
    "      \n",
    "    # append the json_dumps_stations to df_city_stations by using pandas.concat\n",
    "    \n",
    "    # works: \n",
    "    # df_city_stations = pd.concat([df_city_stations, pd.json_normalize(data= response_stations_json['network']['stations'])], axis=0)\n",
    "    \n",
    "    city_bike_stations = req.get(\"https://api.citybik.es/v2/networks/mobibikes\").json()\n",
    "\n",
    "    # view json in nice format\n",
    "    # JSON(city_bike_stations)\n",
    "    df_city_stations_2 = pd.json_normalize(city_bike_stations['network']['stations'])\n",
    "    \n",
    "# print the number of stations in the city\n",
    "print(f\"The number of stations in {city} is {df_city_stations_2.shape[0]}.\")\n"
   ]
  },
  {
   "cell_type": "code",
   "execution_count": 5,
   "metadata": {},
   "outputs": [
    {
     "name": "stdout",
     "output_type": "stream",
     "text": [
      "The number of stations in Vancouver is 241.\n"
     ]
    }
   ],
   "source": [
    "# further request the stations for the target 'city' by using the network_id list:\n",
    "\n",
    "# create a blank dataframe\n",
    "df_city_stations = pd.DataFrame()\n",
    "\n",
    "for id in network_ids:\n",
    "    URL_stations = \"https://api.citybik.es/v2/networks/\"+id\n",
    "    response_stations = req.get(URL_stations)\n",
    "    response_stations_json = response_stations.json()\n",
    "\n",
    "    df_city_stations = pd.json_normalize(response_stations_json['network']['stations'])\n",
    "\n",
    "    \n",
    "# print the number of stations in the city\n",
    "print(f\"The number of stations in {city} is {df_city_stations.shape[0]}.\")"
   ]
  },
  {
   "cell_type": "code",
   "execution_count": 6,
   "metadata": {},
   "outputs": [],
   "source": [
    "# examine the columns:\n",
    "# pd.DataFrame(df_city_stations.columns)\n",
    "# df_city_stations.columns"
   ]
  },
  {
   "cell_type": "code",
   "execution_count": 7,
   "metadata": {},
   "outputs": [],
   "source": [
    "# re-order the columns for readability\n",
    "df_target_city_stations = df_city_stations[['id', 'name', 'latitude', 'longitude', 'empty_slots', 'free_bikes', 'timestamp', 'extra.uid', 'extra.normal_bikes', 'extra.has_ebikes',  'extra.ebikes', 'extra.slots', 'extra.renting', 'extra.returning', 'extra.last_updated']]\n",
    "\n",
    "# rename the columns: id -> station_id, name -> station_name\n",
    "df_target_city_stations = df_target_city_stations.rename(columns={'id': 'station_id', 'name': 'station_name'})"
   ]
  },
  {
   "cell_type": "markdown",
   "metadata": {},
   "source": [
    "Put your parsed results into a DataFrame."
   ]
  },
  {
   "cell_type": "code",
   "execution_count": 8,
   "metadata": {},
   "outputs": [],
   "source": [
    "# save  df_city_stations_sub as a csv file\n",
    "df_target_city_stations.to_csv(data_path + 'target_city_stations_DF.csv', index=False)"
   ]
  }
 ],
 "metadata": {
  "kernelspec": {
   "display_name": "THE_ONE",
   "language": "python",
   "name": "python3"
  },
  "language_info": {
   "codemirror_mode": {
    "name": "ipython",
    "version": 3
   },
   "file_extension": ".py",
   "mimetype": "text/x-python",
   "name": "python",
   "nbconvert_exporter": "python",
   "pygments_lexer": "ipython3",
   "version": "3.10.4"
  },
  "vscode": {
   "interpreter": {
    "hash": "a4ee8cb5db394d430373f6d58146d374176e9fb8684a02c9e4a7e7b50e12400e"
   }
  }
 },
 "nbformat": 4,
 "nbformat_minor": 4
}
